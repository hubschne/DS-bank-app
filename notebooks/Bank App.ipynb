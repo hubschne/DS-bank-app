{
 "cells": [
  {
   "cell_type": "code",
   "execution_count": 1,
   "metadata": {},
   "outputs": [],
   "source": [
    "%load_ext autoreload\n",
    "%autoreload 2"
   ]
  },
  {
   "cell_type": "code",
   "execution_count": 2,
   "metadata": {},
   "outputs": [],
   "source": [
    "from app import Bank\n",
    "from app import Transaction\n",
    "from app import Account"
   ]
  },
  {
   "cell_type": "code",
   "execution_count": 3,
   "metadata": {},
   "outputs": [],
   "source": [
    "bank = Bank('DKB')"
   ]
  },
  {
   "cell_type": "code",
   "execution_count": 4,
   "metadata": {},
   "outputs": [
    {
     "name": "stdout",
     "output_type": "stream",
     "text": [
      "Bank: DKB\n",
      "Accounts: {}\n",
      "Transactions: []\n",
      "set()\n"
     ]
    }
   ],
   "source": [
    "print(f'Bank: {bank.name}')\n",
    "print(f'Accounts: {bank.accounts}')\n",
    "print(f'Transactions: {bank.transactions}')\n",
    "print(set(bank.accounts))"
   ]
  },
  {
   "cell_type": "code",
   "execution_count": 5,
   "metadata": {},
   "outputs": [
    {
     "data": {
      "text/plain": [
       "<app.account.Account at 0x102f52dd8>"
      ]
     },
     "execution_count": 5,
     "metadata": {},
     "output_type": "execute_result"
    }
   ],
   "source": [
    "winda = Account(number = 1, firstname = 'Winda', lastname = 'Soerjawinata')\n",
    "bank.open_account(winda)\n",
    "larissa = Account(number = 2, firstname = 'Larissa', lastname = 'hub')\n",
    "bank.open_account(larissa)"
   ]
  },
  {
   "cell_type": "code",
   "execution_count": 6,
   "metadata": {},
   "outputs": [],
   "source": [
    "larissa.add_to_balance(100000)\n",
    "winda.add_to_balance(231312)"
   ]
  },
  {
   "cell_type": "code",
   "execution_count": 25,
   "metadata": {},
   "outputs": [
    {
     "data": {
      "text/plain": [
       "<app.transaction.Transaction at 0x102f857b8>"
      ]
     },
     "execution_count": 25,
     "metadata": {},
     "output_type": "execute_result"
    }
   ],
   "source": [
    "bank.add_transaction(sender=winda, recipient= larissa, amount= 50.0, subject= 'food')\n",
    "bank.add_transaction(sender=larissa, recipient= winda, amount= 1000.0, subject= 'rent')\n",
    "bank.add_transaction(sender=winda, recipient= larissa, amount= 30.0, subject= 'food')\n",
    "bank.add_transaction(sender=larissa, recipient= winda, amount= 167.0, subject= 'clothes')"
   ]
  },
  {
   "cell_type": "code",
   "execution_count": 26,
   "metadata": {},
   "outputs": [
    {
     "name": "stdout",
     "output_type": "stream",
     "text": [
      " 2019-02-08 14:57:34 : From Winda Soerjawinata to Larissa hub, Subject blub: Transaction + 50.0 €\n",
      " 2018-02-02 02:02:02 : From Winda Soerjawinata to Larissa hub, Subject bla: Transaction + 50.0 €\n",
      " 2019-02-08 15:13:48 : From Winda Soerjawinata to Larissa hub, Subject blub: Transaction + 50.0 €\n",
      " 2019-02-10 17:29:46 : From Winda Soerjawinata to Larissa hub, Subject food: Transaction + 50.0 €\n",
      " 2019-02-10 17:29:46 : From Winda Soerjawinata to Larissa hub, Subject food: Transaction + 30.0 €\n",
      " 2019-02-08 14:57:34 : From Larissa hub to Winda Soerjawinata, Subject bla: Transaction - 1000.0 €\n",
      " 2019-02-08 15:13:48 : From Larissa hub to Winda Soerjawinata, Subject bla: Transaction - 1000.0 €\n",
      " 2019-02-10 17:29:46 : From Larissa hub to Winda Soerjawinata, Subject rent: Transaction - 1000.0 €\n",
      " 2019-02-10 17:29:46 : From Larissa hub to Winda Soerjawinata, Subject clothes: Transaction - 167.0 €\n",
      " current balance                                        234299.0 €\n"
     ]
    }
   ],
   "source": [
    "bank.transactions_of_account(winda)"
   ]
  },
  {
   "cell_type": "code",
   "execution_count": 27,
   "metadata": {},
   "outputs": [
    {
     "name": "stdout",
     "output_type": "stream",
     "text": [
      "DKB   Statement of the year 2018\n",
      " 2018-02-02 02:02:02 : From Winda Soerjawinata to Larissa hub, Subject bla: Transaction + 50.0 €\n",
      " current balance                                        234299.0 €\n"
     ]
    }
   ],
   "source": [
    "bank.bank_statement_year(winda, 2018)"
   ]
  },
  {
   "cell_type": "code",
   "execution_count": 28,
   "metadata": {},
   "outputs": [
    {
     "name": "stdout",
     "output_type": "stream",
     "text": [
      "DKB   Statement of the month 2 2019\n",
      " 2019-02-08 14:57:34 : From Winda Soerjawinata to Larissa hub, Subject blub: Transaction + 50.0 €\n",
      " 2019-02-08 14:57:34 : From Larissa hub to Winda Soerjawinata, Subject bla: Transaction + 1000.0 €\n",
      " 2019-02-08 15:13:48 : From Winda Soerjawinata to Larissa hub, Subject blub: Transaction + 50.0 €\n",
      " 2019-02-08 15:13:48 : From Larissa hub to Winda Soerjawinata, Subject bla: Transaction + 1000.0 €\n",
      " 2019-02-10 17:29:46 : From Winda Soerjawinata to Larissa hub, Subject food: Transaction + 50.0 €\n",
      " 2019-02-10 17:29:46 : From Larissa hub to Winda Soerjawinata, Subject rent: Transaction + 1000.0 €\n",
      " 2019-02-10 17:29:46 : From Winda Soerjawinata to Larissa hub, Subject food: Transaction + 30.0 €\n",
      " 2019-02-10 17:29:46 : From Larissa hub to Winda Soerjawinata, Subject clothes: Transaction + 167.0 €\n",
      " current balance                                        97013.0 €\n"
     ]
    }
   ],
   "source": [
    "bank.bank_statement_month(larissa, 2, 2019)"
   ]
  },
  {
   "cell_type": "code",
   "execution_count": 11,
   "metadata": {},
   "outputs": [
    {
     "data": {
      "text/plain": [
       "str"
      ]
     },
     "execution_count": 11,
     "metadata": {},
     "output_type": "execute_result"
    }
   ],
   "source": [
    "import datetime\n",
    "now=datetime.datetime.now()\n",
    "date=now.isoformat()\n",
    "type(date)"
   ]
  },
  {
   "cell_type": "code",
   "execution_count": 30,
   "metadata": {},
   "outputs": [
    {
     "name": "stdout",
     "output_type": "stream",
     "text": [
      "Suspicious Transactions over amount of 100 €\n",
      " 2019-02-08 14:57:34 : From Larissa hub to Winda Soerjawinata, Subject bla: Transaction - 1000.0 €\n",
      " 2019-02-08 15:13:48 : From Larissa hub to Winda Soerjawinata, Subject bla: Transaction - 1000.0 €\n",
      " 2019-02-10 17:29:46 : From Larissa hub to Winda Soerjawinata, Subject rent: Transaction - 1000.0 €\n",
      " 2019-02-10 17:29:46 : From Larissa hub to Winda Soerjawinata, Subject clothes: Transaction - 167.0 €\n"
     ]
    }
   ],
   "source": [
    "bank.filter_transactions(winda, 100)"
   ]
  },
  {
   "cell_type": "code",
   "execution_count": 13,
   "metadata": {},
   "outputs": [
    {
     "data": {
      "text/plain": [
       "['__class__',\n",
       " '__delattr__',\n",
       " '__dict__',\n",
       " '__dir__',\n",
       " '__doc__',\n",
       " '__eq__',\n",
       " '__format__',\n",
       " '__ge__',\n",
       " '__getattribute__',\n",
       " '__gt__',\n",
       " '__hash__',\n",
       " '__init__',\n",
       " '__init_subclass__',\n",
       " '__le__',\n",
       " '__lt__',\n",
       " '__module__',\n",
       " '__ne__',\n",
       " '__new__',\n",
       " '__reduce__',\n",
       " '__reduce_ex__',\n",
       " '__repr__',\n",
       " '__setattr__',\n",
       " '__sizeof__',\n",
       " '__str__',\n",
       " '__subclasshook__',\n",
       " '__weakref__',\n",
       " 'info']"
      ]
     },
     "execution_count": 13,
     "metadata": {},
     "output_type": "execute_result"
    }
   ],
   "source": [
    "dir(Transaction)"
   ]
  },
  {
   "cell_type": "code",
   "execution_count": 14,
   "metadata": {},
   "outputs": [
    {
     "data": {
      "text/plain": [
       "'Winda'"
      ]
     },
     "execution_count": 14,
     "metadata": {},
     "output_type": "execute_result"
    }
   ],
   "source": [
    "acc= bank.accounts[1]\n",
    "acc.firstname"
   ]
  },
  {
   "cell_type": "code",
   "execution_count": 31,
   "metadata": {},
   "outputs": [],
   "source": [
    "transaction2018 = Transaction(sender=1, recipient=2, subject='bla',amount= 50.0, date='2018-02-02 02:02:02',senderaccount=winda, recaccount=larissa)\n",
    "bank.transactions.append(transaction2018)"
   ]
  },
  {
   "cell_type": "code",
   "execution_count": 32,
   "metadata": {},
   "outputs": [
    {
     "name": "stdout",
     "output_type": "stream",
     "text": [
      "2018-02-02 02:02:02\n"
     ]
    }
   ],
   "source": [
    "import datetime\n",
    "date= datetime.datetime.strptime('2018,2,2 02:02:02','%Y,%m,%d %H:%M:%S')\n",
    "print(date)"
   ]
  },
  {
   "cell_type": "code",
   "execution_count": 35,
   "metadata": {},
   "outputs": [
    {
     "ename": "TypeError",
     "evalue": "'Transaction' object is not iterable",
     "output_type": "error",
     "traceback": [
      "\u001b[0;31m---------------------------------------------------------------------------\u001b[0m",
      "\u001b[0;31mTypeError\u001b[0m                                 Traceback (most recent call last)",
      "\u001b[0;32m<ipython-input-35-db3479f9945a>\u001b[0m in \u001b[0;36m<module>\u001b[0;34m\u001b[0m\n\u001b[0;32m----> 1\u001b[0;31m \u001b[0mbank\u001b[0m\u001b[0;34m.\u001b[0m\u001b[0mfilter_subject_statement\u001b[0m\u001b[0;34m(\u001b[0m\u001b[0maccount\u001b[0m\u001b[0;34m=\u001b[0m \u001b[0mwinda\u001b[0m\u001b[0;34m,\u001b[0m\u001b[0myear\u001b[0m\u001b[0;34m=\u001b[0m \u001b[0;36m2019\u001b[0m\u001b[0;34m)\u001b[0m\u001b[0;34m\u001b[0m\u001b[0;34m\u001b[0m\u001b[0m\n\u001b[0m",
      "\u001b[0;32m~/PycharmProjects/DS-bank-app/src/app/bank.py\u001b[0m in \u001b[0;36mfilter_subject_statement\u001b[0;34m(self, account, year, month)\u001b[0m\n\u001b[1;32m    120\u001b[0m         \u001b[0mnew_list\u001b[0m \u001b[0;34m=\u001b[0m \u001b[0mself\u001b[0m\u001b[0;34m.\u001b[0m\u001b[0msort_list_subject\u001b[0m\u001b[0;34m(\u001b[0m\u001b[0maccount_transactions_year\u001b[0m\u001b[0;34m)\u001b[0m\u001b[0;34m\u001b[0m\u001b[0;34m\u001b[0m\u001b[0m\n\u001b[1;32m    121\u001b[0m         \u001b[0;32mfor\u001b[0m \u001b[0mtra\u001b[0m \u001b[0;32min\u001b[0m \u001b[0mnew_list\u001b[0m\u001b[0;34m:\u001b[0m\u001b[0;34m\u001b[0m\u001b[0;34m\u001b[0m\u001b[0m\n\u001b[0;32m--> 122\u001b[0;31m             \u001b[0mself\u001b[0m\u001b[0;34m.\u001b[0m\u001b[0mprint_transaction2\u001b[0m\u001b[0;34m(\u001b[0m\u001b[0maccount\u001b[0m\u001b[0;34m,\u001b[0m \u001b[0mtra\u001b[0m\u001b[0;34m)\u001b[0m\u001b[0;34m\u001b[0m\u001b[0;34m\u001b[0m\u001b[0m\n\u001b[0m\u001b[1;32m    123\u001b[0m \u001b[0;34m\u001b[0m\u001b[0m\n\u001b[1;32m    124\u001b[0m         \u001b[0;31m# for tra in account_transaction_year:\u001b[0m\u001b[0;34m\u001b[0m\u001b[0;34m\u001b[0m\u001b[0;34m\u001b[0m\u001b[0m\n",
      "\u001b[0;32m~/PycharmProjects/DS-bank-app/src/app/bank.py\u001b[0m in \u001b[0;36mprint_transaction2\u001b[0;34m(self, account, tra)\u001b[0m\n\u001b[1;32m     82\u001b[0m \u001b[0;34m\u001b[0m\u001b[0m\n\u001b[1;32m     83\u001b[0m     \u001b[0;32mdef\u001b[0m \u001b[0mprint_transaction2\u001b[0m\u001b[0;34m(\u001b[0m\u001b[0mself\u001b[0m\u001b[0;34m,\u001b[0m \u001b[0maccount\u001b[0m\u001b[0;34m,\u001b[0m \u001b[0mtra\u001b[0m\u001b[0;34m)\u001b[0m\u001b[0;34m:\u001b[0m\u001b[0;34m\u001b[0m\u001b[0;34m\u001b[0m\u001b[0m\n\u001b[0;32m---> 84\u001b[0;31m         \u001b[0;32mfor\u001b[0m \u001b[0mx\u001b[0m \u001b[0;32min\u001b[0m \u001b[0mtra\u001b[0m\u001b[0;34m:\u001b[0m\u001b[0;34m\u001b[0m\u001b[0;34m\u001b[0m\u001b[0m\n\u001b[0m\u001b[1;32m     85\u001b[0m             \u001b[0;32mif\u001b[0m \u001b[0maccount\u001b[0m \u001b[0;34m==\u001b[0m \u001b[0mx\u001b[0m\u001b[0;34m.\u001b[0m\u001b[0msender\u001b[0m\u001b[0;34m:\u001b[0m\u001b[0;34m\u001b[0m\u001b[0;34m\u001b[0m\u001b[0m\n\u001b[1;32m     86\u001b[0m                 \u001b[0mprint\u001b[0m\u001b[0;34m(\u001b[0m\u001b[0mtra\u001b[0m\u001b[0;34m.\u001b[0m\u001b[0minfo\u001b[0m\u001b[0;34m(\u001b[0m\u001b[0;34m)\u001b[0m \u001b[0;34m+\u001b[0m \u001b[0;34mf'- {tra.amount} €'\u001b[0m\u001b[0;34m)\u001b[0m\u001b[0;34m\u001b[0m\u001b[0;34m\u001b[0m\u001b[0m\n",
      "\u001b[0;31mTypeError\u001b[0m: 'Transaction' object is not iterable"
     ]
    }
   ],
   "source": [
    "bank.filter_subject_statement(account= winda,year= 2019)\n"
   ]
  },
  {
   "cell_type": "code",
   "execution_count": null,
   "metadata": {},
   "outputs": [],
   "source": []
  },
  {
   "cell_type": "code",
   "execution_count": null,
   "metadata": {},
   "outputs": [],
   "source": []
  }
 ],
 "metadata": {
  "kernelspec": {
   "display_name": "Python 3",
   "language": "python",
   "name": "python3"
  },
  "language_info": {
   "codemirror_mode": {
    "name": "ipython",
    "version": 3
   },
   "file_extension": ".py",
   "mimetype": "text/x-python",
   "name": "python",
   "nbconvert_exporter": "python",
   "pygments_lexer": "ipython3",
   "version": "3.6.8"
  }
 },
 "nbformat": 4,
 "nbformat_minor": 2
}
